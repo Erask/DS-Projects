{
 "cells": [
  {
   "cell_type": "code",
   "execution_count": null,
   "id": "93690a38",
   "metadata": {},
   "outputs": [],
   "source": [
    "\n",
    "\n",
    "# Import required libraries\n",
    "import numpy as np\n",
    "import pandas as pd\n",
    "import yfinance as yf\n",
    "import matplotlib.pyplot as plt\n",
    "\n",
    "# Set random seed for reproducibility\n",
    "np.random.seed(42)"
   ]
  },
  {
   "cell_type": "code",
   "execution_count": 8,
   "id": "f87385f9",
   "metadata": {},
   "outputs": [
    {
     "name": "stderr",
     "output_type": "stream",
     "text": [
      "[*********************100%***********************]  1 of 1 completed"
     ]
    },
    {
     "name": "stdout",
     "output_type": "stream",
     "text": [
      "Price            Close        High         Low        Open   Volume\n",
      "Ticker          ORIT.L      ORIT.L      ORIT.L      ORIT.L   ORIT.L\n",
      "Date                                                               \n",
      "2019-12-10  106.493881  106.693305  102.704770  103.063739  2168009\n",
      "2019-12-11  106.194733  107.191866  105.760982  107.191866   548968\n",
      "2019-12-12  104.699043  106.444027  104.367994  106.194744   333224\n",
      "2019-12-13  105.297310  106.693298  104.918402  106.693298   556876\n",
      "2019-12-16  105.197617  105.696183  104.599338  105.496760   733343\n"
     ]
    },
    {
     "name": "stderr",
     "output_type": "stream",
     "text": [
      "\n"
     ]
    }
   ],
   "source": [
    "# Download ORIT.L historical data\n",
    "data = yf.download(\"ORIT.L\", start=\"2010-01-01\", end=\"2023-10-01\", auto_adjust=True)\n",
    "\n",
    "# Display the first few rows of the dataset\n",
    "print(data.head()) "
   ]
  },
  {
   "cell_type": "code",
   "execution_count": null,
   "id": "41c90eb5",
   "metadata": {},
   "outputs": [],
   "source": []
  }
 ],
 "metadata": {
  "kernelspec": {
   "display_name": "avenv",
   "language": "python",
   "name": "python3"
  },
  "language_info": {
   "codemirror_mode": {
    "name": "ipython",
    "version": 3
   },
   "file_extension": ".py",
   "mimetype": "text/x-python",
   "name": "python",
   "nbconvert_exporter": "python",
   "pygments_lexer": "ipython3",
   "version": "3.9.21"
  }
 },
 "nbformat": 4,
 "nbformat_minor": 5
}
